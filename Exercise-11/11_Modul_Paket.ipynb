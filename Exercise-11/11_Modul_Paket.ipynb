{
 "cells": [
  {
   "cell_type": "markdown",
   "metadata": {},
   "source": [
    "***\n",
    "<h1 align=\"center\">Exercise 11</h1>\n",
    " \n",
    "***\n",
    "## Membuat Modul\n",
    "Silakan perhatikan file **Geometri2D** di ./data. \n",
    "Kemudian buatlah kode seperti berikut:\n",
    "\n",
    "![](./images/11_Geometri2D.png)\n"
   ]
  },
  {
   "cell_type": "markdown",
   "metadata": {},
   "source": [
    "## Perintah Import \n",
    "Buatlah kode seperti berikut:\n",
    "\n",
    "![](./images/11_Import.png)\n",
    "\n",
    "Ubah variabel **p** dengan **3 digit nim terakhir kalian** dan variabel **l** dengan **tanggal kalian mengerjakan**."
   ]
  },
  {
   "cell_type": "code",
   "execution_count": 2,
   "metadata": {},
   "outputs": [
    {
     "name": "stdout",
     "output_type": "stream",
     "text": [
      "Persegi Panjang\n",
      "Panjang\t\t: 94\n",
      "Lebar\t\t: 6\n",
      "Luas\t\t: 564\n",
      "Keliling\t: 200\n"
     ]
    }
   ],
   "source": [
    "# Kerjakan di sini\n",
    "from Data import Geometri2D\n",
    "p = 94\n",
    "l = 6\n",
    "\n",
    "luas = Geometri2D.LuasPersegiPanjang(p,l)\n",
    "kel = Geometri2D.KelilingPersegiPanjang(p,l)\n",
    "\n",
    "print(\"Persegi Panjang\")\n",
    "print(\"Panjang\\t\\t:\",p)\n",
    "print(\"Lebar\\t\\t:\",l)\n",
    "print(\"Luas\\t\\t:\",luas)\n",
    "print(\"Keliling\\t:\",kel)\n"
   ]
  },
  {
   "cell_type": "markdown",
   "metadata": {},
   "source": [
    "## Perintah From...Import \n",
    "Buatlah kode seperti berikut:\n",
    "\n",
    "![](./images/11_FromImport.png)\n",
    "\n",
    "Ubah variabel **p** dengan **3 digit nim terakhir kalian** dan variabel **l** dengan **tanggal kalian mengerjakan**."
   ]
  },
  {
   "cell_type": "code",
   "execution_count": 3,
   "metadata": {},
   "outputs": [
    {
     "name": "stdout",
     "output_type": "stream",
     "text": [
      "Persegi Panjang\n",
      "Panjang\t\t: 94\n",
      "Lebar\t\t: 6\n",
      "Luas\t\t: 564\n"
     ]
    }
   ],
   "source": [
    "# Kerjakan di sini\n",
    "from Data.Geometri2D import LuasPersegiPanjang\n",
    "p = 94\n",
    "l = 6\n",
    "\n",
    "luas = LuasPersegiPanjang(p,l)\n",
    "\n",
    "print(\"Persegi Panjang\")\n",
    "print(\"Panjang\\t\\t:\", p)\n",
    "print(\"Lebar\\t\\t:\", l)\n",
    "print(\"Luas\\t\\t:\", luas)"
   ]
  },
  {
   "cell_type": "markdown",
   "metadata": {},
   "source": [
    "## Membuat Alias/Nama Lain Modul \n",
    "### 1. Nama Modul\n",
    "Buatlah kode seperti berikut:\n",
    "\n",
    "![](./images/11_Alias.png)\n",
    "\n",
    "Ubah variabel **p** dengan **3 digit nim terakhir kalian** dan variabel **l** dengan **tanggal kalian mengerjakan**."
   ]
  },
  {
   "cell_type": "code",
   "execution_count": 4,
   "metadata": {},
   "outputs": [
    {
     "name": "stdout",
     "output_type": "stream",
     "text": [
      "Persegi Panjang\n",
      "panjang\t\t: 94\n",
      "Lebar\t\t: 6\n",
      "Luas\t\t: 564\n"
     ]
    }
   ],
   "source": [
    "# Kerjakan di sini\n",
    "from Data import Geometri2D as DuaD\n",
    "p = 94\n",
    "l = 6\n",
    "\n",
    "luas = DuaD.LuasPersegiPanjang(p,l)\n",
    "\n",
    "print(\"Persegi Panjang\")\n",
    "print(\"panjang\\t\\t:\", p)\n",
    "print(\"Lebar\\t\\t:\", l)\n",
    "print(\"Luas\\t\\t:\", luas)"
   ]
  },
  {
   "cell_type": "markdown",
   "metadata": {},
   "source": [
    "### 2. Nama Fungsi\n",
    "Buatlah kode seperti berikut:\n",
    "\n",
    "![](./images/11_Alias2.png)\n",
    "\n",
    "Ubah variabel **p** dengan **3 digit nim terakhir kalian** dan variabel **l** dengan **tanggal kalian mengerjakan**."
   ]
  },
  {
   "cell_type": "code",
   "execution_count": 6,
   "metadata": {},
   "outputs": [
    {
     "name": "stdout",
     "output_type": "stream",
     "text": [
      "Persegi Panjang\n",
      "panjang\t\t: 94\n",
      "Lebar\t\t: 6\n",
      "Luas\t\t: 564\n"
     ]
    }
   ],
   "source": [
    "# Kerjakan di sini\n",
    "from Data.Geometri2D import LuasPersegiPanjang as LPP\n",
    "p = 94\n",
    "l = 6\n",
    "\n",
    "luas = LPP(p,l)\n",
    "\n",
    "print(\"Persegi Panjang\")\n",
    "print(\"panjang\\t\\t:\", p)\n",
    "print(\"Lebar\\t\\t:\", l)\n",
    "print(\"Luas\\t\\t:\", luas)"
   ]
  },
  {
   "cell_type": "markdown",
   "metadata": {},
   "source": [
    "## Membuat Paket \n",
    "Silakan perhatikan file **__init__.py** di ./Data.\n",
    "Kemudian isikan kode berikut ke dalam file **__init__.py**:\n",
    "\n",
    "![](./images/11_init.png)\n"
   ]
  },
  {
   "cell_type": "markdown",
   "metadata": {},
   "source": [
    "## Menggunakan Paket\n",
    "Buatlah kode seperti berikut:\n",
    "\n",
    "![](./images/11_Paket.png)\n",
    "\n",
    "Ubah variabel **sisi** dengan **tanggal kalian mengerjakan**."
   ]
  },
  {
   "cell_type": "code",
   "execution_count": 7,
   "metadata": {},
   "outputs": [
    {
     "name": "stdout",
     "output_type": "stream",
     "text": [
      "Bujur Sangkar\n",
      "Panjang Sisi\t: 6\n",
      "Luas\t\t: 36\n"
     ]
    }
   ],
   "source": [
    "# Kerjakan di sini\n",
    "import Data.Geometri2D\n",
    "def main():\n",
    "    sisi = 6\n",
    "    luas = Data.Geometri2D.LuasBujurSangkar(sisi)\n",
    "    print(\"Bujur Sangkar\")\n",
    "    print(\"Panjang Sisi\\t:\",sisi)\n",
    "    print(\"Luas\\t\\t:\",luas)\n",
    "\n",
    "if __name__ == \"__main__\":\n",
    "    main()"
   ]
  },
  {
   "cell_type": "markdown",
   "metadata": {},
   "source": [
    "***\n",
    "<h1 align=\"center\">Well Done!!!</h1>\n",
    "\n",
    "***"
   ]
  }
 ],
 "metadata": {
  "interpreter": {
   "hash": "107d7b120a5b68773a87d4067e673630b35702e55ebab3138143d08b1c4d7cbc"
  },
  "kernelspec": {
   "display_name": "Python 3.10.2 64-bit",
   "language": "python",
   "name": "python3"
  },
  "language_info": {
   "codemirror_mode": {
    "name": "ipython",
    "version": 3
   },
   "file_extension": ".py",
   "mimetype": "text/x-python",
   "name": "python",
   "nbconvert_exporter": "python",
   "pygments_lexer": "ipython3",
   "version": "3.10.2"
  },
  "orig_nbformat": 4
 },
 "nbformat": 4,
 "nbformat_minor": 2
}
