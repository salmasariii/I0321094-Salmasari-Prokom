{
 "cells": [
  {
   "cell_type": "markdown",
   "metadata": {},
   "source": [
    "# Exercise 2\n",
    "\n",
    "1. Salinlah kode di bawah ini dan isilah titik-titik sesuai dengan perintah yang ada\n",
    "![](./images/02_TipeDataDanVariabel.png)"
   ]
  },
  {
   "cell_type": "code",
   "execution_count": 59,
   "metadata": {},
   "outputs": [
    {
     "name": "stdout",
     "output_type": "stream",
     "text": [
      "Nama lengkap saya adalah Salma Sari Hayunah Nurdiniyah\n",
      "Nama panggilan saya adalah Salma\n",
      "Umur saya saat ini adalah 18\n",
      "Tipe data variabel _umur adalah <class 'int'>\n",
      "Umur saya saat ini adalah delapan belas\n",
      "Tipe data variabel _umur adalah <class 'str'>\n",
      "Tinggi badan saya adalah 155.5\n",
      "Tipe data variabel tinggi_badan adalah <class 'float'>\n",
      "Saya merupakan mahasiswa angkatan 2021 adalah True\n",
      "Tipe data variabel mahasiswaangkatan2021 adalah <class 'bool'>\n"
     ]
    }
   ],
   "source": [
    "#Kerjakan nomor satu disini\n",
    "Nama = \"Salma Sari Hayunah Nurdiniyah\" #isi dengan nama lengkap kalian\n",
    "nama = \"Salma\" #isi dengan nama panggilan kalian\n",
    "#proses mencetak variabel\n",
    "print (\"Nama lengkap saya adalah\", Nama) #isi bagian rumpang dengan nama variabel yang sesuai\n",
    "print (\"Nama panggilan saya adalah\", nama)\n",
    "\n",
    "#nilai dan tipe dalam variabel dapat diubah\n",
    "_umur = 18 #isi dengan umur kalian\n",
    "print (\"Umur saya saat ini adalah\", _umur) #mencetak nilai umur\n",
    "print(\"Tipe data variabel _umur adalah\", type(_umur))\n",
    "_umur = \"delapan belas\" #isi dengan teks berupa umur kalian jika dijadikan kalimat, misal \"sepuluh tahun\"\n",
    "print (\"Umur saya saat ini adalah\", _umur) #mencetak nilai umur\n",
    "print (\"Tipe data variabel _umur adalah\", type(_umur))\n",
    "tinggi_badan = 155.5 #isi dengan tinggi badan kalian ditambah 0.5\n",
    "print (\"Tinggi badan saya adalah\", tinggi_badan) #mencetak tinngi badan\n",
    "print(\"Tipe data variabel tinggi_badan adalah\", type(tinggi_badan))\n",
    "mahasiswaangkatan2021 = True\n",
    "print (\"Saya merupakan mahasiswa angkatan 2021 adalah\", mahasiswaangkatan2021)\n",
    "print (\"Tipe data variabel mahasiswaangkatan2021 adalah\", type(mahasiswaangkatan2021))"
   ]
  },
  {
   "cell_type": "markdown",
   "metadata": {},
   "source": [
    "2. Salinlah kode di bawah ini dan isilah titik-titik sesuai dengan perintah yang ada\n",
    "![](./images/02_MembuatInputData.png)"
   ]
  },
  {
   "cell_type": "code",
   "execution_count": 61,
   "metadata": {},
   "outputs": [
    {
     "name": "stdout",
     "output_type": "stream",
     "text": [
      "Program Konversi Panjang dalam Meter ke Berbagai Satuan\n",
      "\n",
      "\n",
      "1000 m = 1.0 km\n",
      "1000 m = 100000 cm\n",
      "1000 m = 1000000 mm\n",
      "1000 m = 1000000000 μn\n",
      "1000 m = 1000000000000 nm\n",
      "1000 m = 39370.0787 in\n",
      "1000 m = 3280.8399 ft\n",
      "1000 m = 1093.6133 yard\n",
      "1000 m = 0.6214 mi\n",
      "1000 m = 0.54 nmi\n"
     ]
    }
   ],
   "source": [
    "#Kerjakan nomor satu disini\n",
    "#simbol miu --> μ\n",
    "print (\"Program Konversi Panjang dalam Meter ke Berbagai Satuan\")\n",
    "print (\"\")\n",
    "length = int(input(\"Masukkan nilai panjang dalam meter: \"))\n",
    "feet = length / 0.3048\n",
    "print (\"\")\n",
    "print (length, \"m =\", length / 1000, \"km\") #meter ke kilometer\n",
    "print (length, \"m =\", length * 100, \"cm\") #meter ke centimeter\n",
    "print (length, \"m =\", length * 1000, \"mm\") #meter ke milimeter\n",
    "print (length, \"m =\", length * 1000000, \"μn\") #meter ke mikrometer\n",
    "print (length, \"m =\", length * 1000000000, \"nm\") #meter ke nanometer\n",
    "#Round berfungsi untuk membulatkan hasil ke N angka dibelakang koma\n",
    "print (length, \"m =\", round(feet * 12, 4), \"in\") #meter ke inchi\n",
    "print (length, \"m =\", round(feet, 4), \"ft\") #meter ke kaki\n",
    "print (length, \"m =\", round(feet / 3, 4), \"yard\") #meter ke yard\n",
    "print (length, \"m =\", round (feet / 5280, 4), \"mi\") #meter ke mil\n",
    "print (length, \"m =\", round (length / 1852, 4), \"nmi\") #meter ke mil laut"
   ]
  },
  {
   "cell_type": "markdown",
   "metadata": {},
   "source": [
    "### Cara Pengumpulan\n",
    "\n",
    "1. Buka *New Terminal*\n",
    "2. Pastikan *path* Terminal adalah folder repositori kalian (NIM-Nama-Prokom).\n",
    "3. Tambahkan file yang akan ditrack dengan `git add <nama file>`. Nama file bisa diubah . (titik) yang artinya semua file dalam folder akan ditrack.\n",
    "4. Lakukan commit perubahan dengan `git commit -m <deskripsi>`.\n",
    "5. Lakukan push dengan `git push -u origin <nama branch>`. Nama branch dapat diketahui dengan `git branch`.\n",
    "6. Pastikan Exercise-02 telah terupload dan dapat diakses di repositori dengan mengaksesnya di browser."
   ]
  }
 ],
 "metadata": {
  "interpreter": {
   "hash": "ac59ebe37160ed0dfa835113d9b8498d9f09ceb179beaac4002f036b9467c963"
  },
  "kernelspec": {
   "display_name": "Python 3.9.8 64-bit",
   "language": "python",
   "name": "python3"
  },
  "language_info": {
   "name": "python",
   "version": "3.9.8"
  },
  "orig_nbformat": 4
 },
 "nbformat": 4,
 "nbformat_minor": 2
}
