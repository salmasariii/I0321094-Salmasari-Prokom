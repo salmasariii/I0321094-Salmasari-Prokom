{
 "cells": [
  {
   "cell_type": "markdown",
   "metadata": {},
   "source": [
    "***\n",
    "<h1 align=\"center\">Exercise 06</h1>\n",
    " \n",
    "***\n",
    "## While Loop\n",
    "## Exercise 6.1\n",
    "isilah bagian rumpang berikut. xx diganti tanggal lahir dan yy diganti menjadi bulan lahir. tandanya menyesuaikan yang lebih besar."
   ]
  },
  {
   "cell_type": "code",
   "execution_count": 1,
   "metadata": {},
   "outputs": [
    {
     "name": "stdout",
     "output_type": "stream",
     "text": [
      "Be a good one\n",
      "Be a good one\n",
      "Be a good one\n",
      "Be a good one\n",
      "Be a good one\n",
      "Be a good one\n",
      "Be a good one\n",
      "Be a good one\n",
      "Be a good one\n",
      "Be a good one\n",
      "Be a good one\n",
      "Be a good one\n",
      "Be a good one\n",
      "Be a good one\n",
      "Be a good one\n",
      "Be a good one\n",
      "Be a good one\n",
      "Be a good one\n",
      "Be a good one\n"
     ]
    }
   ],
   "source": [
    "#menentukan banyak pengulangan\n",
    "n = 25\n",
    "\n",
    "#melakukan pengulangan\n",
    "i = 7\n",
    "\n",
    "while i <= n :\n",
    "    print (\"Be a good one\")\n",
    "    #diisi motto kalian\n",
    "    i = i+1 # sesuaikan dengan atas agar fungsi perulangan dapat berhenti\n"
   ]
  },
  {
   "cell_type": "markdown",
   "metadata": {},
   "source": [
    "## Exercise 6.2\n",
    "\n",
    "Buatlah code seperti yang dicontohkan pada modul agar user dapat menginputkan sendiri jumlah n yang diinginkan"
   ]
  },
  {
   "cell_type": "code",
   "execution_count": 7,
   "metadata": {},
   "outputs": [
    {
     "name": "stdout",
     "output_type": "stream",
     "text": [
      "7\n",
      "8\n",
      "9\n",
      "10\n"
     ]
    }
   ],
   "source": [
    "#Kerjakan disini\n",
    "n = int(input(\"Masukkan nilai n: \"))\n",
    "i = 7\n",
    "\n",
    "while i <= n :\n",
    "    print(i)\n",
    "    i = i +1\n",
    "    \n"
   ]
  },
  {
   "cell_type": "markdown",
   "metadata": {},
   "source": [
    "## Excercise 6.3\n",
    "\n",
    "isilah xx, yy, dan tanda rumpang seperti pada exercise 6.1\n"
   ]
  },
  {
   "cell_type": "code",
   "execution_count": 6,
   "metadata": {},
   "outputs": [
    {
     "name": "stdout",
     "output_type": "stream",
     "text": [
      "Baris ke-25 :Our Times\n",
      "Baris ke-24 :Our Times\n",
      "Baris ke-23 :Our Times\n",
      "Baris ke-22 :Our Times\n",
      "Baris ke-21 :Our Times\n",
      "Baris ke-20 :Our Times\n",
      "Baris ke-19 :Our Times\n",
      "Baris ke-18 :Our Times\n",
      "Baris ke-17 :Our Times\n",
      "Baris ke-16 :Our Times\n",
      "Baris ke-15 :Our Times\n",
      "Baris ke-14 :Our Times\n",
      "Baris ke-13 :Our Times\n",
      "Baris ke-12 :Our Times\n",
      "Baris ke-11 :Our Times\n",
      "Baris ke-10 :Our Times\n",
      "Baris ke-9 :Our Times\n",
      "Baris ke-8 :Our Times\n",
      "Baris ke-7 :Our Times\n"
     ]
    }
   ],
   "source": [
    "#melakukan pengulangan\n",
    "i = 25\n",
    "\n",
    "while i >= 7 :\n",
    "    print (\"Baris ke-%d :Our Times\"%i)\n",
    "    #isi titik-titik dengan judul film favorit kalian\n",
    "    i = i - 1 "
   ]
  },
  {
   "cell_type": "markdown",
   "metadata": {},
   "source": [
    "## FOR LOOP\n",
    "\n",
    "## Exercise 6.4\n",
    "\n",
    "munculkan 3 dari 7 elemen yang berada di dalam list1 dan list2\n"
   ]
  },
  {
   "cell_type": "code",
   "execution_count": 9,
   "metadata": {},
   "outputs": [
    {
     "name": "stdout",
     "output_type": "stream",
     "text": [
      "2 Bakso Bandung\n",
      "3 Ramen Jogja\n",
      "4 Mie Malang\n"
     ]
    }
   ],
   "source": [
    "list1 = [\"Nasi Goreng\", \"Bakso\", \"Ramen\", \"Mie\", \"Dimsum\", \"Pizza\", \"Mendoan\"] #masukkan 7 list makanan favorit kalian\n",
    "list2 = [\"Surakarta\", \"Bandung\", \"Jogja\", \"Malang\", \"Surabaya\", \"Jakarta\", \"Denpasar\"] #masukkan 7 list kota favorit kalian\n",
    "\n",
    "for i in range(1,4) :\n",
    "    print(i+1, list1[i], list2[i])"
   ]
  },
  {
   "cell_type": "markdown",
   "metadata": {},
   "source": [
    "## Perulangan Bersarang\n",
    "\n",
    "## Exercise 6.5"
   ]
  },
  {
   "cell_type": "code",
   "execution_count": 11,
   "metadata": {},
   "outputs": [
    {
     "name": "stdout",
     "output_type": "stream",
     "text": [
      "49 \n",
      "56 64 \n",
      "63 72 81 \n",
      "70 80 90 100 \n",
      "77 88 99 110 121 \n",
      "84 96 108 120 132 144 \n",
      "91 104 117 130 143 156 169 \n",
      "98 112 126 140 154 168 182 196 \n",
      "105 120 135 150 165 180 195 210 225 \n",
      "112 128 144 160 176 192 208 224 240 256 \n",
      "119 136 153 170 187 204 221 238 255 272 289 \n",
      "126 144 162 180 198 216 234 252 270 288 306 324 \n",
      "133 152 171 190 209 228 247 266 285 304 323 342 361 \n",
      "140 160 180 200 220 240 260 280 300 320 340 360 380 400 \n",
      "147 168 189 210 231 252 273 294 315 336 357 378 399 420 441 \n",
      "154 176 198 220 242 264 286 308 330 352 374 396 418 440 462 484 \n",
      "161 184 207 230 253 276 299 322 345 368 391 414 437 460 483 506 529 \n",
      "168 192 216 240 264 288 312 336 360 384 408 432 456 480 504 528 552 576 \n",
      "175 200 225 250 275 300 325 350 375 400 425 450 475 500 525 550 575 600 625 \n"
     ]
    }
   ],
   "source": [
    "i = 7\n",
    "while i <= 25:\n",
    "    j = 7\n",
    "    while j<=i:\n",
    "        print(\"%d \" % (i*j), end = '')\n",
    "        j = j + 1\n",
    "    print()\n",
    "    i+=1"
   ]
  },
  {
   "cell_type": "markdown",
   "metadata": {},
   "source": [
    "## Pernyataan Loncat\n",
    "\n",
    "## Exercise 6.\n",
    "\n",
    "Buatlah fungsi berikut agar muncul angka hingga berhenti sesuai dengan nilai qq\n",
    "qq = angka favorit kalian\n",
    "pp>qq"
   ]
  },
  {
   "cell_type": "code",
   "execution_count": 17,
   "metadata": {},
   "outputs": [
    {
     "name": "stdout",
     "output_type": "stream",
     "text": [
      "0 1 2 3 4 5 6 7 "
     ]
    }
   ],
   "source": [
    "for i in range(25):\n",
    "    print(i,end= ' ' )\n",
    "    if i == 7:\n",
    "        break"
   ]
  },
  {
   "cell_type": "markdown",
   "metadata": {},
   "source": [
    "***\n",
    "<h1 align=\"center\">WELL DONE</h1>\n",
    " \n",
    "***"
   ]
  }
 ],
 "metadata": {
  "interpreter": {
   "hash": "cd08f94adcf3cbae37fe85286256f4c2a10455ca9094fd053e9f3d3f09647223"
  },
  "kernelspec": {
   "display_name": "Python 3.9.7 64-bit",
   "language": "python",
   "name": "python3"
  },
  "language_info": {
   "codemirror_mode": {
    "name": "ipython",
    "version": 3
   },
   "file_extension": ".py",
   "mimetype": "text/x-python",
   "name": "python",
   "nbconvert_exporter": "python",
   "pygments_lexer": "ipython3",
   "version": "3.10.2"
  },
  "orig_nbformat": 4
 },
 "nbformat": 4,
 "nbformat_minor": 2
}
